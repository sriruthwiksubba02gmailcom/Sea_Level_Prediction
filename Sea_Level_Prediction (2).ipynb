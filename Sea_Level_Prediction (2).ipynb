{
 "cells": [
  {
   "cell_type": "markdown",
   "id": "034b4215",
   "metadata": {},
   "source": [
    "# Sea_Level_Prediction"
   ]
  },
  {
   "cell_type": "markdown",
   "id": "b0d5373d",
   "metadata": {},
   "source": [
    "### IMPORTING THE REQUIRED LIBRARIES:-"
   ]
  },
  {
   "cell_type": "code",
   "execution_count": 28,
   "id": "8b63942d",
   "metadata": {},
   "outputs": [],
   "source": [
    "import numpy as np\n",
    "import pandas as pd\n",
    "import seaborn as sns\n",
    "from scipy.stats import linregress\n",
    "from matplotlib import pyplot as plt\n",
    "from sklearn import linear_model\n",
    "import csv \n",
    "import warnings\n",
    "warnings.filterwarnings('ignore')\n",
    "sns.set(style='whitegrid',palette='hsv')\n",
    "df=pd.read_csv(\"C:\\\\Users\\\\subba\\\\OneDrive\\\\Desktop\\\\COLLEGE\\\\epa-sea-level_csv.csv\")\n",
    "df2=df"
   ]
  },
  {
   "cell_type": "markdown",
   "id": "8843def8",
   "metadata": {},
   "source": [
    "### SOFT READING THE DATA"
   ]
  },
  {
   "cell_type": "code",
   "execution_count": 32,
   "id": "db03a071",
   "metadata": {
    "scrolled": true
   },
   "outputs": [
    {
     "data": {
      "text/html": [
       "<div>\n",
       "<style scoped>\n",
       "    .dataframe tbody tr th:only-of-type {\n",
       "        vertical-align: middle;\n",
       "    }\n",
       "\n",
       "    .dataframe tbody tr th {\n",
       "        vertical-align: top;\n",
       "    }\n",
       "\n",
       "    .dataframe thead th {\n",
       "        text-align: right;\n",
       "    }\n",
       "</style>\n",
       "<table border=\"1\" class=\"dataframe\">\n",
       "  <thead>\n",
       "    <tr style=\"text-align: right;\">\n",
       "      <th></th>\n",
       "      <th>Year</th>\n",
       "      <th>CSIRO Adjusted Sea Level</th>\n",
       "      <th>Lower Error Bound</th>\n",
       "      <th>Upper Error Bound</th>\n",
       "      <th>NOAA Adjusted Sea Level</th>\n",
       "    </tr>\n",
       "  </thead>\n",
       "  <tbody>\n",
       "    <tr>\n",
       "      <th>0</th>\n",
       "      <td>1880-03-15</td>\n",
       "      <td>0.000000</td>\n",
       "      <td>-0.952756</td>\n",
       "      <td>0.952756</td>\n",
       "      <td>NaN</td>\n",
       "    </tr>\n",
       "    <tr>\n",
       "      <th>1</th>\n",
       "      <td>1881-03-15</td>\n",
       "      <td>0.220472</td>\n",
       "      <td>-0.732283</td>\n",
       "      <td>1.173228</td>\n",
       "      <td>NaN</td>\n",
       "    </tr>\n",
       "    <tr>\n",
       "      <th>2</th>\n",
       "      <td>1882-03-15</td>\n",
       "      <td>-0.440945</td>\n",
       "      <td>-1.346457</td>\n",
       "      <td>0.464567</td>\n",
       "      <td>NaN</td>\n",
       "    </tr>\n",
       "    <tr>\n",
       "      <th>3</th>\n",
       "      <td>1883-03-15</td>\n",
       "      <td>-0.232283</td>\n",
       "      <td>-1.129921</td>\n",
       "      <td>0.665354</td>\n",
       "      <td>NaN</td>\n",
       "    </tr>\n",
       "    <tr>\n",
       "      <th>4</th>\n",
       "      <td>1884-03-15</td>\n",
       "      <td>0.590551</td>\n",
       "      <td>-0.283465</td>\n",
       "      <td>1.464567</td>\n",
       "      <td>NaN</td>\n",
       "    </tr>\n",
       "  </tbody>\n",
       "</table>\n",
       "</div>"
      ],
      "text/plain": [
       "         Year  CSIRO Adjusted Sea Level  Lower Error Bound  Upper Error Bound  \\\n",
       "0  1880-03-15                  0.000000          -0.952756           0.952756   \n",
       "1  1881-03-15                  0.220472          -0.732283           1.173228   \n",
       "2  1882-03-15                 -0.440945          -1.346457           0.464567   \n",
       "3  1883-03-15                 -0.232283          -1.129921           0.665354   \n",
       "4  1884-03-15                  0.590551          -0.283465           1.464567   \n",
       "\n",
       "   NOAA Adjusted Sea Level  \n",
       "0                      NaN  \n",
       "1                      NaN  \n",
       "2                      NaN  \n",
       "3                      NaN  \n",
       "4                      NaN  "
      ]
     },
     "execution_count": 32,
     "metadata": {},
     "output_type": "execute_result"
    }
   ],
   "source": [
    "df2.head()\n",
    "#df2.describe()\n",
    "#df2.info()"
   ]
  },
  {
   "cell_type": "markdown",
   "id": "352fb1d0",
   "metadata": {},
   "source": [
    "### DATA PREPROCESSING"
   ]
  },
  {
   "cell_type": "code",
   "execution_count": 31,
   "id": "20a0ef40",
   "metadata": {},
   "outputs": [],
   "source": [
    "#droping the unwanted columns"
   ]
  },
  {
   "cell_type": "code",
   "execution_count": 33,
   "id": "9761c68a",
   "metadata": {},
   "outputs": [],
   "source": [
    "df2=df2.drop('Year',axis=1)"
   ]
  },
  {
   "cell_type": "code",
   "execution_count": 34,
   "id": "ed9b39d4",
   "metadata": {},
   "outputs": [],
   "source": [
    "df2=df2.drop(['NOAA Adjusted Sea Level'],axis=1)"
   ]
  },
  {
   "cell_type": "code",
   "execution_count": 35,
   "id": "b1bf7e58",
   "metadata": {},
   "outputs": [],
   "source": [
    "#adding the desired coloumn"
   ]
  },
  {
   "cell_type": "code",
   "execution_count": 36,
   "id": "b36cf95b",
   "metadata": {},
   "outputs": [],
   "source": [
    "yr=list(range(1880,2015))\n",
    "df2['only_year']=yr"
   ]
  },
  {
   "cell_type": "code",
   "execution_count": 37,
   "id": "839fddd6",
   "metadata": {
    "scrolled": true
   },
   "outputs": [
    {
     "data": {
      "text/html": [
       "<div>\n",
       "<style scoped>\n",
       "    .dataframe tbody tr th:only-of-type {\n",
       "        vertical-align: middle;\n",
       "    }\n",
       "\n",
       "    .dataframe tbody tr th {\n",
       "        vertical-align: top;\n",
       "    }\n",
       "\n",
       "    .dataframe thead th {\n",
       "        text-align: right;\n",
       "    }\n",
       "</style>\n",
       "<table border=\"1\" class=\"dataframe\">\n",
       "  <thead>\n",
       "    <tr style=\"text-align: right;\">\n",
       "      <th></th>\n",
       "      <th>CSIRO Adjusted Sea Level</th>\n",
       "      <th>Lower Error Bound</th>\n",
       "      <th>Upper Error Bound</th>\n",
       "      <th>only_year</th>\n",
       "    </tr>\n",
       "  </thead>\n",
       "  <tbody>\n",
       "    <tr>\n",
       "      <th>0</th>\n",
       "      <td>0.000000</td>\n",
       "      <td>-0.952756</td>\n",
       "      <td>0.952756</td>\n",
       "      <td>1880</td>\n",
       "    </tr>\n",
       "    <tr>\n",
       "      <th>1</th>\n",
       "      <td>0.220472</td>\n",
       "      <td>-0.732283</td>\n",
       "      <td>1.173228</td>\n",
       "      <td>1881</td>\n",
       "    </tr>\n",
       "    <tr>\n",
       "      <th>2</th>\n",
       "      <td>-0.440945</td>\n",
       "      <td>-1.346457</td>\n",
       "      <td>0.464567</td>\n",
       "      <td>1882</td>\n",
       "    </tr>\n",
       "    <tr>\n",
       "      <th>3</th>\n",
       "      <td>-0.232283</td>\n",
       "      <td>-1.129921</td>\n",
       "      <td>0.665354</td>\n",
       "      <td>1883</td>\n",
       "    </tr>\n",
       "    <tr>\n",
       "      <th>4</th>\n",
       "      <td>0.590551</td>\n",
       "      <td>-0.283465</td>\n",
       "      <td>1.464567</td>\n",
       "      <td>1884</td>\n",
       "    </tr>\n",
       "  </tbody>\n",
       "</table>\n",
       "</div>"
      ],
      "text/plain": [
       "   CSIRO Adjusted Sea Level  Lower Error Bound  Upper Error Bound  only_year\n",
       "0                  0.000000          -0.952756           0.952756       1880\n",
       "1                  0.220472          -0.732283           1.173228       1881\n",
       "2                 -0.440945          -1.346457           0.464567       1882\n",
       "3                 -0.232283          -1.129921           0.665354       1883\n",
       "4                  0.590551          -0.283465           1.464567       1884"
      ]
     },
     "execution_count": 37,
     "metadata": {},
     "output_type": "execute_result"
    }
   ],
   "source": [
    "df2.head()"
   ]
  },
  {
   "cell_type": "markdown",
   "id": "2664d91c",
   "metadata": {},
   "source": [
    "### DATA CLEANING"
   ]
  },
  {
   "cell_type": "code",
   "execution_count": 38,
   "id": "8f1520cc",
   "metadata": {
    "scrolled": true
   },
   "outputs": [],
   "source": [
    "def clean_dataset(df2):\n",
    "    assert isinstance(df2, pd.DataFrame), \"df needs to be a pd.DataFrame\"\n",
    "    df2.dropna(inplace=True)\n",
    "    indices_to_keep = ~df2.isin([np.nan, np.inf, -np.inf]).any(axis=1)\n",
    "    return df2[indices_to_keep].astype(np.float64)"
   ]
  },
  {
   "cell_type": "code",
   "execution_count": 39,
   "id": "066822e3",
   "metadata": {
    "scrolled": true
   },
   "outputs": [
    {
     "data": {
      "text/html": [
       "<div>\n",
       "<style scoped>\n",
       "    .dataframe tbody tr th:only-of-type {\n",
       "        vertical-align: middle;\n",
       "    }\n",
       "\n",
       "    .dataframe tbody tr th {\n",
       "        vertical-align: top;\n",
       "    }\n",
       "\n",
       "    .dataframe thead th {\n",
       "        text-align: right;\n",
       "    }\n",
       "</style>\n",
       "<table border=\"1\" class=\"dataframe\">\n",
       "  <thead>\n",
       "    <tr style=\"text-align: right;\">\n",
       "      <th></th>\n",
       "      <th>CSIRO Adjusted Sea Level</th>\n",
       "      <th>Lower Error Bound</th>\n",
       "      <th>Upper Error Bound</th>\n",
       "      <th>only_year</th>\n",
       "    </tr>\n",
       "  </thead>\n",
       "  <tbody>\n",
       "    <tr>\n",
       "      <th>0</th>\n",
       "      <td>0.000000</td>\n",
       "      <td>-0.952756</td>\n",
       "      <td>0.952756</td>\n",
       "      <td>1880.0</td>\n",
       "    </tr>\n",
       "    <tr>\n",
       "      <th>1</th>\n",
       "      <td>0.220472</td>\n",
       "      <td>-0.732283</td>\n",
       "      <td>1.173228</td>\n",
       "      <td>1881.0</td>\n",
       "    </tr>\n",
       "    <tr>\n",
       "      <th>2</th>\n",
       "      <td>-0.440945</td>\n",
       "      <td>-1.346457</td>\n",
       "      <td>0.464567</td>\n",
       "      <td>1882.0</td>\n",
       "    </tr>\n",
       "    <tr>\n",
       "      <th>3</th>\n",
       "      <td>-0.232283</td>\n",
       "      <td>-1.129921</td>\n",
       "      <td>0.665354</td>\n",
       "      <td>1883.0</td>\n",
       "    </tr>\n",
       "    <tr>\n",
       "      <th>4</th>\n",
       "      <td>0.590551</td>\n",
       "      <td>-0.283465</td>\n",
       "      <td>1.464567</td>\n",
       "      <td>1884.0</td>\n",
       "    </tr>\n",
       "    <tr>\n",
       "      <th>...</th>\n",
       "      <td>...</td>\n",
       "      <td>...</td>\n",
       "      <td>...</td>\n",
       "      <td>...</td>\n",
       "    </tr>\n",
       "    <tr>\n",
       "      <th>129</th>\n",
       "      <td>8.586614</td>\n",
       "      <td>8.311024</td>\n",
       "      <td>8.862205</td>\n",
       "      <td>2009.0</td>\n",
       "    </tr>\n",
       "    <tr>\n",
       "      <th>130</th>\n",
       "      <td>8.901575</td>\n",
       "      <td>8.618110</td>\n",
       "      <td>9.185039</td>\n",
       "      <td>2010.0</td>\n",
       "    </tr>\n",
       "    <tr>\n",
       "      <th>131</th>\n",
       "      <td>8.964567</td>\n",
       "      <td>8.661417</td>\n",
       "      <td>9.267717</td>\n",
       "      <td>2011.0</td>\n",
       "    </tr>\n",
       "    <tr>\n",
       "      <th>132</th>\n",
       "      <td>9.326772</td>\n",
       "      <td>8.992126</td>\n",
       "      <td>9.661417</td>\n",
       "      <td>2012.0</td>\n",
       "    </tr>\n",
       "    <tr>\n",
       "      <th>133</th>\n",
       "      <td>8.980315</td>\n",
       "      <td>8.622047</td>\n",
       "      <td>9.338583</td>\n",
       "      <td>2013.0</td>\n",
       "    </tr>\n",
       "  </tbody>\n",
       "</table>\n",
       "<p>134 rows × 4 columns</p>\n",
       "</div>"
      ],
      "text/plain": [
       "     CSIRO Adjusted Sea Level  Lower Error Bound  Upper Error Bound  only_year\n",
       "0                    0.000000          -0.952756           0.952756     1880.0\n",
       "1                    0.220472          -0.732283           1.173228     1881.0\n",
       "2                   -0.440945          -1.346457           0.464567     1882.0\n",
       "3                   -0.232283          -1.129921           0.665354     1883.0\n",
       "4                    0.590551          -0.283465           1.464567     1884.0\n",
       "..                        ...                ...                ...        ...\n",
       "129                  8.586614           8.311024           8.862205     2009.0\n",
       "130                  8.901575           8.618110           9.185039     2010.0\n",
       "131                  8.964567           8.661417           9.267717     2011.0\n",
       "132                  9.326772           8.992126           9.661417     2012.0\n",
       "133                  8.980315           8.622047           9.338583     2013.0\n",
       "\n",
       "[134 rows x 4 columns]"
      ]
     },
     "execution_count": 39,
     "metadata": {},
     "output_type": "execute_result"
    }
   ],
   "source": [
    "clean_dataset(df2)"
   ]
  },
  {
   "cell_type": "code",
   "execution_count": 40,
   "id": "01165f16",
   "metadata": {
    "scrolled": true
   },
   "outputs": [
    {
     "data": {
      "text/plain": [
       "CSIRO Adjusted Sea Level    0\n",
       "Lower Error Bound           0\n",
       "Upper Error Bound           0\n",
       "only_year                   0\n",
       "dtype: int64"
      ]
     },
     "execution_count": 40,
     "metadata": {},
     "output_type": "execute_result"
    }
   ],
   "source": [
    "df2.isnull().sum()"
   ]
  },
  {
   "cell_type": "markdown",
   "id": "b871dd92",
   "metadata": {},
   "source": [
    "### VISUALIZING THE DATA"
   ]
  },
  {
   "cell_type": "code",
   "execution_count": 41,
   "id": "34c050cf",
   "metadata": {},
   "outputs": [],
   "source": [
    "# Read data from file\n",
    "y=df2['CSIRO Adjusted Sea Level']\n",
    "x=df2['only_year']"
   ]
  },
  {
   "cell_type": "code",
   "execution_count": 42,
   "id": "a86bf563",
   "metadata": {
    "scrolled": true
   },
   "outputs": [
    {
     "data": {
      "image/png": "[encoded data removed]",
      "text/plain": [
       "<Figure size 432x288 with 1 Axes>"
      ]
     },
     "metadata": {},
     "output_type": "display_data"
    }
   ],
   "source": [
    "# Create scatter plot\n",
    "plt.scatter(x,y,color='blue')\n",
    "plt.show()"
   ]
  },
  {
   "cell_type": "markdown",
   "id": "3894f07e",
   "metadata": {},
   "source": [
    "### PREPARING THE TRAINING AND TESTING DATA"
   ]
  },
  {
   "cell_type": "code",
   "execution_count": 43,
   "id": "4f285e11",
   "metadata": {},
   "outputs": [],
   "source": [
    "cdf=df2[['only_year','CSIRO Adjusted Sea Level']]\n",
    "msk=np.random.rand(len(df2))<0.8\n",
    "train=cdf[msk]\n",
    "test=cdf[~msk]"
   ]
  },
  {
   "cell_type": "markdown",
   "id": "4bc4e1d9",
   "metadata": {},
   "source": [
    "### BUILDING THE REGRESSION MODEL "
   ]
  },
  {
   "cell_type": "code",
   "execution_count": 44,
   "id": "97be083a",
   "metadata": {
    "scrolled": false
   },
   "outputs": [
    {
     "data": {
      "image/png": "[encoded data removed]",
      "text/plain": [
       "<Figure size 720x720 with 1 Axes>"
      ]
     },
     "metadata": {},
     "output_type": "display_data"
    }
   ],
   "source": [
    "regr = linear_model.LinearRegression()\n",
    "train_x = np.asanyarray(train[['only_year']])\n",
    "train_y = np.asanyarray(train[['CSIRO Adjusted Sea Level']])\n",
    "plt.figure(figsize=(10,10))\n",
    "a=plt.scatter(x,y,color='yellow')\n",
    "font1 = {'family':'serif','color':'blue','size':20}\n",
    "font2 = {'family':'serif','color':'darkred','size':15}\n",
    "plt.xlabel('Year',fontdict = font2)\n",
    "plt.ylabel('Sea Level',fontdict = font2)\n",
    "plt.title('Rise in Sea Level(mm)',fontdict = font1)\n",
    "regr.fit(train_x, train_y)\n",
    "plt.plot(train_x,regr.coef_[0][0]*train_x + regr.intercept_[0],'r')\n",
    "plt.show()"
   ]
  },
  {
   "cell_type": "markdown",
   "id": "9203e241",
   "metadata": {},
   "source": [
    "Coefficient and Intercept in the simple linear regression, are the parameters of the fit line. Given that it is a simple linear regression, with only 2 parameters, and knowing that the parameters are the intercept and slope of the line, sklearn can estimate them directly from our data. Notice that all of the data must be available to traverse and calculate the parameters."
   ]
  },
  {
   "cell_type": "code",
   "execution_count": 45,
   "id": "458cf2f8",
   "metadata": {},
   "outputs": [
    {
     "name": "stdout",
     "output_type": "stream",
     "text": [
      "Coefficients:  [[0.06227219]]\n",
      "Intercept:  [-117.55555647]\n"
     ]
    }
   ],
   "source": [
    "print ('Coefficients: ', regr.coef_)\n",
    "print ('Intercept: ',regr.intercept_)"
   ]
  },
  {
   "cell_type": "markdown",
   "id": "dac29427",
   "metadata": {},
   "source": [
    "### EVALUATION "
   ]
  },
  {
   "cell_type": "code",
   "execution_count": 17,
   "id": "1cdcbd5c",
   "metadata": {},
   "outputs": [],
   "source": [
    "predicted_values=regr.predict(test[['only_year']])"
   ]
  },
  {
   "cell_type": "code",
   "execution_count": 18,
   "id": "2d3286f3",
   "metadata": {},
   "outputs": [],
   "source": [
    "from sklearn.metrics import r2_score as a"
   ]
  },
  {
   "cell_type": "markdown",
   "id": "4c78a469",
   "metadata": {},
   "source": [
    "R-squared is not an error, but rather a popular metric to measure the performance of your regression model. It represents how close the data points are to the fitted regression line. The higher the R-squared value, the better the model fits your data. The best possible score is 1.0 and it can be negative (because the model can be arbitrarily worse)."
   ]
  },
  {
   "cell_type": "code",
   "execution_count": 19,
   "id": "abe9d8a0",
   "metadata": {
    "scrolled": true
   },
   "outputs": [
    {
     "data": {
      "text/plain": [
       "0.978189255635937"
      ]
     },
     "execution_count": 19,
     "metadata": {},
     "output_type": "execute_result"
    }
   ],
   "source": [
    "a(predicted_values,test[['CSIRO Adjusted Sea Level']])"
   ]
  },
  {
   "cell_type": "markdown",
   "id": "6c63da16",
   "metadata": {},
   "source": [
    "### CONCLUSION "
   ]
  },
  {
   "cell_type": "markdown",
   "id": "92340d75",
   "metadata": {},
   "source": [
    "If we calcuate the increase in sea level per month, by this we can conclude that there will be rise of 3.2(+/-)mm/year"
   ]
  },
  {
   "cell_type": "code",
   "execution_count": 26,
   "id": "7eec3243",
   "metadata": {},
   "outputs": [],
   "source": [
    "x_arr=[[2023]]\n"
   ]
  },
  {
   "cell_type": "code",
   "execution_count": 27,
   "id": "26a50fe0",
   "metadata": {},
   "outputs": [
    {
     "data": {
      "text/plain": [
       "array([[8.51549536]])"
      ]
     },
     "execution_count": 27,
     "metadata": {},
     "output_type": "execute_result"
    }
   ],
   "source": [
    "regr.predict(x_arr)"
   ]
  },
  {
   "cell_type": "code",
   "execution_count": null,
   "id": "b1ef6ee1",
   "metadata": {},
   "outputs": [],
   "source": []
  }
 ],
 "metadata": {
  "kernelspec": {
   "display_name": "Python 3",
   "language": "python",
   "name": "python3"
  },
  "language_info": {
   "codemirror_mode": {
    "name": "ipython",
    "version": 3
   },
   "file_extension": ".py",
   "mimetype": "text/x-python",
   "name": "python",
   "nbconvert_exporter": "python",
   "pygments_lexer": "ipython3",
   "version": "3.8.8"
  }
 },
 "nbformat": 4,
 "nbformat_minor": 5
}
